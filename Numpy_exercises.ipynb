{
  "nbformat": 4,
  "nbformat_minor": 5,
  "metadata": {
    "colab": {
      "name": "Numpy_exercises.ipynb",
      "provenance": [],
      "collapsed_sections": []
    },
    "language_info": {
      "name": "python"
    },
    "kernelspec": {
      "name": "python3",
      "display_name": "Python 3"
    }
  },
  "cells": [
    {
      "cell_type": "markdown",
      "metadata": {
        "id": "bf79c78b"
      },
      "source": [
        "# Numpy exercises\n"
      ],
      "id": "bf79c78b"
    },
    {
      "cell_type": "markdown",
      "metadata": {
        "id": "017db353"
      },
      "source": [
        "#### 1. Import the numpy package under the name `np` (★☆☆) `hint: import … as`"
      ],
      "id": "017db353"
    },
    {
      "cell_type": "code",
      "metadata": {
        "id": "68182a76"
      },
      "source": [
        "import numpy as np\n"
      ],
      "id": "68182a76",
      "execution_count": 3,
      "outputs": []
    },
    {
      "cell_type": "markdown",
      "metadata": {
        "id": "e3c20b3d"
      },
      "source": [
        "#### 2. Create a null vector of size 10 (★☆☆) `hint: vector is a single raw array`"
      ],
      "id": "e3c20b3d"
    },
    {
      "cell_type": "code",
      "metadata": {
        "id": "8a758bcf",
        "outputId": "0ad8b3c4-7504-4805-851e-bd7a4d374f85",
        "colab": {
          "base_uri": "https://localhost:8080/"
        }
      },
      "source": [
        "arr1 = np.array(range(10))\n",
        "arr1"
      ],
      "id": "8a758bcf",
      "execution_count": 8,
      "outputs": [
        {
          "output_type": "execute_result",
          "data": {
            "text/plain": [
              "array([0, 1, 2, 3, 4, 5, 6, 7, 8, 9])"
            ]
          },
          "metadata": {
            "tags": []
          },
          "execution_count": 8
        }
      ]
    },
    {
      "cell_type": "markdown",
      "metadata": {
        "id": "b15a879f"
      },
      "source": [
        "#### 3. How to find the memory size of any array, creat a random 5x6 array and check the sizs (★☆☆)"
      ],
      "id": "b15a879f"
    },
    {
      "cell_type": "code",
      "metadata": {
        "id": "1cc3cbc5",
        "outputId": "ba03c49d-5394-40d0-e3da-9feb441cb37c",
        "colab": {
          "base_uri": "https://localhost:8080/"
        }
      },
      "source": [
        "arr2 = np.array([range(6)for i in range(5)])\n",
        "print(arr2.nbytes)\n",
        "print(arr2.size)"
      ],
      "id": "1cc3cbc5",
      "execution_count": 14,
      "outputs": [
        {
          "output_type": "stream",
          "text": [
            "240\n",
            "30\n"
          ],
          "name": "stdout"
        }
      ]
    },
    {
      "cell_type": "markdown",
      "metadata": {
        "id": "0a708990"
      },
      "source": [
        "#### 4. How to get the documentation of the numpy add function from the command line? (★☆☆) `hint: use info or ?`"
      ],
      "id": "0a708990"
    },
    {
      "cell_type": "code",
      "metadata": {
        "id": "477e01f4"
      },
      "source": [
        "?np.add"
      ],
      "id": "477e01f4",
      "execution_count": 16,
      "outputs": []
    },
    {
      "cell_type": "markdown",
      "metadata": {
        "id": "0b16cd77"
      },
      "source": [
        "#### 5. Create a null vector of size 10 but the fifth value which is 1 (★☆☆) `hint: array[x]`"
      ],
      "id": "0b16cd77"
    },
    {
      "cell_type": "code",
      "metadata": {
        "id": "4d9b5975",
        "outputId": "92d05f44-1ec0-4f18-aaa0-a5d914ff713d",
        "colab": {
          "base_uri": "https://localhost:8080/"
        }
      },
      "source": [
        "arr3 = np.array([\"\" for i in range(10)])\n",
        "arr3[4]=1\n",
        "arr3"
      ],
      "id": "4d9b5975",
      "execution_count": 29,
      "outputs": [
        {
          "output_type": "execute_result",
          "data": {
            "text/plain": [
              "array(['', '', '', '', '1', '', '', '', '', ''], dtype='<U1')"
            ]
          },
          "metadata": {
            "tags": []
          },
          "execution_count": 29
        }
      ]
    },
    {
      "cell_type": "markdown",
      "metadata": {
        "id": "782d4c77"
      },
      "source": [
        "#### 7. Create a vector (single raw array) with values ranging from 10 to 49 (★☆☆) `hint: arange`"
      ],
      "id": "782d4c77"
    },
    {
      "cell_type": "code",
      "metadata": {
        "id": "5dbe1a08",
        "outputId": "727551d4-6a58-4c02-b5eb-33ced782d4fb",
        "colab": {
          "base_uri": "https://localhost:8080/"
        }
      },
      "source": [
        "arr4= np.array(range(10,49))\n",
        "arr4"
      ],
      "id": "5dbe1a08",
      "execution_count": 30,
      "outputs": [
        {
          "output_type": "execute_result",
          "data": {
            "text/plain": [
              "array([10, 11, 12, 13, 14, 15, 16, 17, 18, 19, 20, 21, 22, 23, 24, 25, 26,\n",
              "       27, 28, 29, 30, 31, 32, 33, 34, 35, 36, 37, 38, 39, 40, 41, 42, 43,\n",
              "       44, 45, 46, 47, 48])"
            ]
          },
          "metadata": {
            "tags": []
          },
          "execution_count": 30
        }
      ]
    },
    {
      "cell_type": "markdown",
      "metadata": {
        "id": "48d48f01"
      },
      "source": [
        "#### 8. Show how you can Reverse a vector (first element becomes last) (★☆☆)`hint: use index of -1`"
      ],
      "id": "48d48f01"
    },
    {
      "cell_type": "code",
      "metadata": {
        "id": "3ed233e7",
        "outputId": "f07542e5-c716-4f33-d79b-d0ab6a1cf4c3",
        "colab": {
          "base_uri": "https://localhost:8080/"
        }
      },
      "source": [
        "arr4[::-1]"
      ],
      "id": "3ed233e7",
      "execution_count": 34,
      "outputs": [
        {
          "output_type": "execute_result",
          "data": {
            "text/plain": [
              "array([48, 47, 46, 45, 44, 43, 42, 41, 40, 39, 38, 37, 36, 35, 34, 33, 32,\n",
              "       31, 30, 29, 28, 27, 26, 25, 24, 23, 22, 21, 20, 19, 18, 17, 16, 15,\n",
              "       14, 13, 12, 11, 10])"
            ]
          },
          "metadata": {
            "tags": []
          },
          "execution_count": 34
        }
      ]
    },
    {
      "cell_type": "markdown",
      "metadata": {
        "id": "4fa39382"
      },
      "source": [
        "#### 9. Create a 3x3 matrix with values ranging from 0 to 8 (★☆☆) `hint: use range and reshape!`"
      ],
      "id": "4fa39382"
    },
    {
      "cell_type": "code",
      "metadata": {
        "id": "c97757ec",
        "outputId": "cc03de11-8193-4bc9-a89b-7a91683851bd",
        "colab": {
          "base_uri": "https://localhost:8080/"
        }
      },
      "source": [
        "arr5 = np.array(np.arange(9).reshape(3,3))\n",
        "arr5"
      ],
      "id": "c97757ec",
      "execution_count": 39,
      "outputs": [
        {
          "output_type": "execute_result",
          "data": {
            "text/plain": [
              "array([[0, 1, 2],\n",
              "       [3, 4, 5],\n",
              "       [6, 7, 8]])"
            ]
          },
          "metadata": {
            "tags": []
          },
          "execution_count": 39
        }
      ]
    },
    {
      "cell_type": "markdown",
      "metadata": {
        "id": "da64551a"
      },
      "source": [
        "#### 10. Find indices of non-zero elements from [1,2,0,0,4,0] (★☆☆) `hint: use the np.nonzero`"
      ],
      "id": "da64551a"
    },
    {
      "cell_type": "code",
      "metadata": {
        "id": "327f7adb",
        "outputId": "b1c7f807-cc56-4cee-e51c-bc932f6195db",
        "colab": {
          "base_uri": "https://localhost:8080/"
        }
      },
      "source": [
        "arr6=np.nonzero( [1,2,0,0,4,0])\n",
        "arr6"
      ],
      "id": "327f7adb",
      "execution_count": 41,
      "outputs": [
        {
          "output_type": "execute_result",
          "data": {
            "text/plain": [
              "(array([0, 1, 4]),)"
            ]
          },
          "metadata": {
            "tags": []
          },
          "execution_count": 41
        }
      ]
    },
    {
      "cell_type": "markdown",
      "metadata": {
        "id": "f89d9c9e"
      },
      "source": [
        "#### 11. Create a 3x3 identity matrix (★☆☆) `hint: use index and use np.eye`\n",
        "the following is an example of 5x4 identity matrix\n",
        "\n",
        "\n",
        "```\n",
        "[[1. 0. 0. 0. 0.]\n",
        " [0. 1. 0. 0. 0.]\n",
        " [0. 0. 1. 0. 0.]\n",
        " [0. 0. 0. 1. 0.]\n",
        " [0. 0. 0. 0. 1.]]\n",
        "\n",
        "```\n",
        "\n"
      ],
      "id": "f89d9c9e"
    },
    {
      "cell_type": "code",
      "metadata": {
        "id": "ba625832",
        "outputId": "0f662349-563f-4f13-99ae-0230f20502ff",
        "colab": {
          "base_uri": "https://localhost:8080/"
        }
      },
      "source": [
        "arr7 = np.eye(3,3)\n",
        "arr7"
      ],
      "id": "ba625832",
      "execution_count": 43,
      "outputs": [
        {
          "output_type": "execute_result",
          "data": {
            "text/plain": [
              "array([[1., 0., 0.],\n",
              "       [0., 1., 0.],\n",
              "       [0., 0., 1.]])"
            ]
          },
          "metadata": {
            "tags": []
          },
          "execution_count": 43
        }
      ]
    },
    {
      "cell_type": "markdown",
      "metadata": {
        "id": "7e44c6fa"
      },
      "source": [
        "#### 12. Create a 3x3x3 array with random values (★☆☆) `hint: np.random.random`"
      ],
      "id": "7e44c6fa"
    },
    {
      "cell_type": "code",
      "metadata": {
        "id": "1cb3dddf",
        "outputId": "ce10183a-8d1f-453c-e843-812355225831",
        "colab": {
          "base_uri": "https://localhost:8080/"
        }
      },
      "source": [
        "arr8 = np.array([[np.random.random(3)for i in range(3)]for x in range(3)])\n",
        "arr8"
      ],
      "id": "1cb3dddf",
      "execution_count": 57,
      "outputs": [
        {
          "output_type": "execute_result",
          "data": {
            "text/plain": [
              "array([[[0.05744563, 0.90330194, 0.58112791],\n",
              "        [0.22182894, 0.88112679, 0.27173374],\n",
              "        [0.77487172, 0.47350745, 0.28076725]],\n",
              "\n",
              "       [[0.58740537, 0.80323293, 0.45757909],\n",
              "        [0.76060748, 0.20481378, 0.90115031],\n",
              "        [0.45996639, 0.19261471, 0.31448293]],\n",
              "\n",
              "       [[0.69687052, 0.57075239, 0.2048155 ],\n",
              "        [0.66149147, 0.12864968, 0.87895077],\n",
              "        [0.49678406, 0.54339431, 0.43715303]]])"
            ]
          },
          "metadata": {
            "tags": []
          },
          "execution_count": 57
        }
      ]
    },
    {
      "cell_type": "markdown",
      "metadata": {
        "id": "13c5928c"
      },
      "source": [
        "#### 13. Create a 10x10 array with random values and find the minimum and maximum values (★☆☆) `hint: min, max`"
      ],
      "id": "13c5928c"
    },
    {
      "cell_type": "code",
      "metadata": {
        "id": "911c9b93",
        "outputId": "1efd6f75-5fe4-4a12-ebcb-66ae27eaa5f3",
        "colab": {
          "base_uri": "https://localhost:8080/"
        }
      },
      "source": [
        "Z = np.array([np.random.random(10)for i in range(10)])\n",
        "print(Z.max())\n",
        "print(Z.min())"
      ],
      "id": "911c9b93",
      "execution_count": 64,
      "outputs": [
        {
          "output_type": "stream",
          "text": [
            "0.9841273761051308\n",
            "0.009285298168348444\n"
          ],
          "name": "stdout"
        }
      ]
    },
    {
      "cell_type": "markdown",
      "metadata": {
        "id": "3fa2e461"
      },
      "source": [
        "#### 14. Create a random vector of size 30 and find the mean value (★☆☆) `hint: mean`"
      ],
      "id": "3fa2e461"
    },
    {
      "cell_type": "code",
      "metadata": {
        "id": "323eb38a",
        "outputId": "d8d56a4a-1e45-44f6-ba44-ed224a653f9b",
        "colab": {
          "base_uri": "https://localhost:8080/"
        }
      },
      "source": [
        "arr9 =np.array(np.random.random(30))\n",
        "mean = np.mean(arr9)\n",
        "print(mean)"
      ],
      "id": "323eb38a",
      "execution_count": 69,
      "outputs": [
        {
          "output_type": "stream",
          "text": [
            "0.5663459127621374\n"
          ],
          "name": "stdout"
        }
      ]
    },
    {
      "cell_type": "markdown",
      "metadata": {
        "id": "73f7a549"
      },
      "source": [
        "#### 15. Create a 2d array as following, with 1 on the border and 0 inside.. see generated array (★☆☆)\n",
        "\n",
        "\n",
        "\n",
        "```\n",
        "[[1. 1. 1. 1. 1. 1. 1. 1. 1. 1.]\n",
        " [1. 0. 0. 0. 0. 0. 0. 0. 0. 1.]\n",
        " [1. 0. 0. 0. 0. 0. 0. 0. 0. 1.]\n",
        " [1. 0. 0. 0. 0. 0. 0. 0. 0. 1.]\n",
        " [1. 0. 0. 0. 0. 0. 0. 0. 0. 1.]\n",
        " [1. 0. 0. 0. 0. 0. 0. 0. 0. 1.]\n",
        " [1. 0. 0. 0. 0. 0. 0. 0. 0. 1.]\n",
        " [1. 0. 0. 0. 0. 0. 0. 0. 0. 1.]\n",
        " [1. 0. 0. 0. 0. 0. 0. 0. 0. 1.]\n",
        " [1. 1. 1. 1. 1. 1. 1. 1. 1. 1.]]\n",
        "```\n",
        "\n"
      ],
      "id": "73f7a549"
    },
    {
      "cell_type": "code",
      "metadata": {
        "id": "e3a6807d",
        "outputId": "eca8d76b-9c7d-4606-d381-6641b3c4da3e",
        "colab": {
          "base_uri": "https://localhost:8080/"
        }
      },
      "source": [
        "arr10 = np.ones((10,10))\n",
        "arr10[1:-1,1:-1]=0.\n",
        "arr10"
      ],
      "id": "e3a6807d",
      "execution_count": 88,
      "outputs": [
        {
          "output_type": "execute_result",
          "data": {
            "text/plain": [
              "array([[1., 1., 1., 1., 1., 1., 1., 1., 1., 1.],\n",
              "       [1., 0., 0., 0., 0., 0., 0., 0., 0., 1.],\n",
              "       [1., 0., 0., 0., 0., 0., 0., 0., 0., 1.],\n",
              "       [1., 0., 0., 0., 0., 0., 0., 0., 0., 1.],\n",
              "       [1., 0., 0., 0., 0., 0., 0., 0., 0., 1.],\n",
              "       [1., 0., 0., 0., 0., 0., 0., 0., 0., 1.],\n",
              "       [1., 0., 0., 0., 0., 0., 0., 0., 0., 1.],\n",
              "       [1., 0., 0., 0., 0., 0., 0., 0., 0., 1.],\n",
              "       [1., 0., 0., 0., 0., 0., 0., 0., 0., 1.],\n",
              "       [1., 1., 1., 1., 1., 1., 1., 1., 1., 1.]])"
            ]
          },
          "metadata": {
            "tags": []
          },
          "execution_count": 88
        }
      ]
    },
    {
      "cell_type": "markdown",
      "metadata": {
        "id": "6d0c506f"
      },
      "source": [
        "#### 16. How to add a border (filled with 0's) around an existing array? (★★☆) `hint: see generated array np.pad   `"
      ],
      "id": "6d0c506f"
    },
    {
      "cell_type": "code",
      "metadata": {
        "colab": {
          "base_uri": "https://localhost:8080/"
        },
        "id": "32ffee7b",
        "outputId": "bc0df5e0-4d91-43a2-c170-af045a4f6622"
      },
      "source": [
        "arr11 = np.ones((10,10))\n",
        "np.pad(arr11,1)"
      ],
      "id": "32ffee7b",
      "execution_count": 92,
      "outputs": [
        {
          "output_type": "execute_result",
          "data": {
            "text/plain": [
              "array([[0., 0., 0., 0., 0., 0., 0., 0., 0., 0., 0., 0.],\n",
              "       [0., 1., 1., 1., 1., 1., 1., 1., 1., 1., 1., 0.],\n",
              "       [0., 1., 1., 1., 1., 1., 1., 1., 1., 1., 1., 0.],\n",
              "       [0., 1., 1., 1., 1., 1., 1., 1., 1., 1., 1., 0.],\n",
              "       [0., 1., 1., 1., 1., 1., 1., 1., 1., 1., 1., 0.],\n",
              "       [0., 1., 1., 1., 1., 1., 1., 1., 1., 1., 1., 0.],\n",
              "       [0., 1., 1., 1., 1., 1., 1., 1., 1., 1., 1., 0.],\n",
              "       [0., 1., 1., 1., 1., 1., 1., 1., 1., 1., 1., 0.],\n",
              "       [0., 1., 1., 1., 1., 1., 1., 1., 1., 1., 1., 0.],\n",
              "       [0., 1., 1., 1., 1., 1., 1., 1., 1., 1., 1., 0.],\n",
              "       [0., 1., 1., 1., 1., 1., 1., 1., 1., 1., 1., 0.],\n",
              "       [0., 0., 0., 0., 0., 0., 0., 0., 0., 0., 0., 0.]])"
            ]
          },
          "metadata": {
            "tags": []
          },
          "execution_count": 92
        }
      ]
    },
    {
      "cell_type": "markdown",
      "metadata": {
        "id": "d6ad1a9f"
      },
      "source": [
        "#### 17. What is the result of the following expression? (★☆☆)\n",
        "```python\n",
        "0 * np.nan\n",
        "np.nan == np.nan\n",
        "np.inf > np.nan\n",
        "np.nan - np.nan\n",
        "np.nan in set([np.nan])\n",
        "0.3 == 3 * 0.1\n",
        "```"
      ],
      "id": "d6ad1a9f"
    },
    {
      "cell_type": "markdown",
      "metadata": {
        "id": "NmSxNzO_cPiU"
      },
      "source": [
        "false"
      ],
      "id": "NmSxNzO_cPiU"
    },
    {
      "cell_type": "markdown",
      "metadata": {
        "id": "cUiAXyeXApYe"
      },
      "source": [
        " ####18  What is the result of the following expression? (★☆☆) `hint: indexing the nan using np.nan`\n",
        "\n",
        "\n",
        "\n",
        "```\n",
        "Z = np.ones((5,5))\n",
        "Z[0,1]=np.nan\n",
        "Z\n",
        "```\n",
        "\n"
      ],
      "id": "cUiAXyeXApYe"
    },
    {
      "cell_type": "code",
      "metadata": {
        "id": "wirXjeT-Bd2H",
        "outputId": "f6e09f54-8dfc-48c0-dea0-54db37a17c7c",
        "colab": {
          "base_uri": "https://localhost:8080/"
        }
      },
      "source": [
        "Z = np.ones((5,5))\n",
        "Z[0,1]=np.nan\n",
        "Z"
      ],
      "id": "wirXjeT-Bd2H",
      "execution_count": 93,
      "outputs": [
        {
          "output_type": "execute_result",
          "data": {
            "text/plain": [
              "array([[ 1., nan,  1.,  1.,  1.],\n",
              "       [ 1.,  1.,  1.,  1.,  1.],\n",
              "       [ 1.,  1.,  1.,  1.,  1.],\n",
              "       [ 1.,  1.,  1.,  1.,  1.],\n",
              "       [ 1.,  1.,  1.,  1.,  1.]])"
            ]
          },
          "metadata": {
            "tags": []
          },
          "execution_count": 93
        }
      ]
    },
    {
      "cell_type": "markdown",
      "metadata": {
        "id": "qujryEWVA4pY"
      },
      "source": [
        "#### 18. Now, use this expression to find the index of your nan\n",
        "\n",
        "\n",
        "```\n",
        "np.argwhere(x!=x)    Hint: x is your array\n",
        "```\n",
        "\n",
        "\n",
        "\n"
      ],
      "id": "qujryEWVA4pY"
    },
    {
      "cell_type": "code",
      "metadata": {
        "id": "cY-LQXYvcflJ",
        "outputId": "e2e235fc-7584-4b1f-82d4-160b21fe28ff",
        "colab": {
          "base_uri": "https://localhost:8080/"
        }
      },
      "source": [
        "np.argwhere(Z!=Z)"
      ],
      "id": "cY-LQXYvcflJ",
      "execution_count": 97,
      "outputs": [
        {
          "output_type": "execute_result",
          "data": {
            "text/plain": [
              "array([[0, 1]])"
            ]
          },
          "metadata": {
            "tags": []
          },
          "execution_count": 97
        }
      ]
    },
    {
      "cell_type": "markdown",
      "metadata": {
        "id": "FvqtyHKDDJbO"
      },
      "source": [
        "20. Generate the following array \n",
        "\n",
        "\n",
        "```\n",
        "array([[ 1,  2,  3,  4],\n",
        "       [ 5,  6,  7,  8],\n",
        "       [ 9, 10, 11, 12],\n",
        "       [13, 14, 15, 16]])\n",
        "```\n",
        "\n"
      ],
      "id": "FvqtyHKDDJbO"
    },
    {
      "cell_type": "code",
      "metadata": {
        "id": "41OqU1ueElVm",
        "outputId": "c129702f-7568-485b-c7cd-8d6e64120915",
        "colab": {
          "base_uri": "https://localhost:8080/"
        }
      },
      "source": [
        "arr12= np.array(np.arange(1,17).reshape(4,4))\n",
        "arr12"
      ],
      "id": "41OqU1ueElVm",
      "execution_count": 106,
      "outputs": [
        {
          "output_type": "execute_result",
          "data": {
            "text/plain": [
              "array([[ 1,  2,  3,  4],\n",
              "       [ 5,  6,  7,  8],\n",
              "       [ 9, 10, 11, 12],\n",
              "       [13, 14, 15, 16]])"
            ]
          },
          "metadata": {
            "tags": []
          },
          "execution_count": 106
        }
      ]
    },
    {
      "cell_type": "markdown",
      "metadata": {
        "id": "Nu-kxgXYEw4H"
      },
      "source": [
        "#### 19. Extract the following values `array([ 1,  6, 11, 16])`. ` Hint: use np.diagonal()`"
      ],
      "id": "Nu-kxgXYEw4H"
    },
    {
      "cell_type": "code",
      "metadata": {
        "id": "K75gLJt5AkD2",
        "outputId": "da4a13d9-8c2f-41ab-da8f-ffbdf0a7e5b0",
        "colab": {
          "base_uri": "https://localhost:8080/"
        }
      },
      "source": [
        "np.diagonal(arr12)"
      ],
      "id": "K75gLJt5AkD2",
      "execution_count": 107,
      "outputs": [
        {
          "output_type": "execute_result",
          "data": {
            "text/plain": [
              "array([ 1,  6, 11, 16])"
            ]
          },
          "metadata": {
            "tags": []
          },
          "execution_count": 107
        }
      ]
    },
    {
      "cell_type": "code",
      "metadata": {
        "colab": {
          "base_uri": "https://localhost:8080/"
        },
        "id": "bMmo0hIlC2It",
        "outputId": "68307f86-bcf9-4f5f-a1f5-7030a59c6254"
      },
      "source": [
        "Z"
      ],
      "id": "bMmo0hIlC2It",
      "execution_count": 111,
      "outputs": [
        {
          "output_type": "execute_result",
          "data": {
            "text/plain": [
              "array([[ 1., nan,  1.,  1.,  1.],\n",
              "       [ 1.,  1.,  1.,  1.,  1.],\n",
              "       [ 1.,  1.,  1.,  1.,  1.],\n",
              "       [ 1.,  1.,  1.,  1.,  1.],\n",
              "       [ 1.,  1.,  1.,  1.,  1.]])"
            ]
          },
          "metadata": {
            "tags": []
          },
          "execution_count": 111
        }
      ]
    },
    {
      "cell_type": "markdown",
      "metadata": {
        "id": "e3a7ba7f"
      },
      "source": [
        "#### 20. Try to use `np.diag` to Create a 5x5 matrix with diagonal values 11,11,11,11 (★★☆) Hint: use np.diag with k=0 and [11,11,11,11]. -- diag([11,11,11,11],k=-0)"
      ],
      "id": "e3a7ba7f"
    },
    {
      "cell_type": "code",
      "metadata": {
        "id": "pIv0AJ7pen8Q",
        "outputId": "554fa31e-5cb0-47e9-df3a-37c5f68e5f0d",
        "colab": {
          "base_uri": "https://localhost:8080/"
        }
      },
      "source": [
        "np.diag(Z,k=0)\n"
      ],
      "id": "pIv0AJ7pen8Q",
      "execution_count": 115,
      "outputs": [
        {
          "output_type": "execute_result",
          "data": {
            "text/plain": [
              "array([1., 1., 1., 1., 1.])"
            ]
          },
          "metadata": {
            "tags": []
          },
          "execution_count": 115
        }
      ]
    },
    {
      "cell_type": "markdown",
      "metadata": {
        "id": "puqXeNWRF4yG"
      },
      "source": [
        "#### 21.  Create a 5x5 matrix with values 1,2,3,4 just below the diagonal (★☆☆) `Hint: use k=-1 when calling np.diag`"
      ],
      "id": "puqXeNWRF4yG"
    },
    {
      "cell_type": "code",
      "metadata": {
        "colab": {
          "base_uri": "https://localhost:8080/"
        },
        "id": "01d8e257",
        "outputId": "666dcf83-82e9-4a4b-8d38-18d6dcaa4860"
      },
      "source": [
        "\n",
        "arr13 =np.diag([1,2,3,4],k=1)\n",
        "arr13"
      ],
      "id": "01d8e257",
      "execution_count": 121,
      "outputs": [
        {
          "output_type": "execute_result",
          "data": {
            "text/plain": [
              "array([[0, 1, 0, 0, 0],\n",
              "       [0, 0, 2, 0, 0],\n",
              "       [0, 0, 0, 3, 0],\n",
              "       [0, 0, 0, 0, 4],\n",
              "       [0, 0, 0, 0, 0]])"
            ]
          },
          "metadata": {
            "tags": []
          },
          "execution_count": 121
        }
      ]
    },
    {
      "cell_type": "markdown",
      "metadata": {
        "id": "6d17ab5d"
      },
      "source": [
        "####22. Create a 8x8 matrix and fill it with a given pattern (★☆☆) Hint: use np.zeros and do the replace \n",
        "\n",
        "\n",
        "\n",
        "```\n",
        "[['' 'O' '' 'O' '' 'O' '' 'O']\n",
        " ['M' '' 'M' '' 'M' '' 'M' '']\n",
        " ['' 'O' '' 'O' '' 'O' '' 'O']\n",
        " ['M' '' 'M' '' 'M' '' 'M' '']\n",
        " ['' 'O' '' 'O' '' 'O' '' 'O']\n",
        " ['M' '' 'M' '' 'M' '' 'M' '']\n",
        " ['' 'O' '' 'O' '' 'O' '' 'O']\n",
        " ['M' '' 'M' '' 'M' '' 'M' '']]\n",
        "```\n",
        "\n"
      ],
      "id": "6d17ab5d"
    },
    {
      "cell_type": "code",
      "metadata": {
        "colab": {
          "base_uri": "https://localhost:8080/"
        },
        "id": "841373cd",
        "outputId": "7dca3136-f662-427c-a5d9-f83e0e17a176"
      },
      "source": [
        "arr14 = np.zeros((8,8),dtype=str)\n",
        "arr14[::2,::2]=\"\"\n",
        "arr14[::2,1::2]=\"o\"\n",
        "arr14[1::2,::2]=\"M\"\n",
        "arr14"
      ],
      "id": "841373cd",
      "execution_count": 136,
      "outputs": [
        {
          "output_type": "execute_result",
          "data": {
            "text/plain": [
              "array([['', 'o', '', 'o', '', 'o', '', 'o'],\n",
              "       ['M', '', 'M', '', 'M', '', 'M', ''],\n",
              "       ['', 'o', '', 'o', '', 'o', '', 'o'],\n",
              "       ['M', '', 'M', '', 'M', '', 'M', ''],\n",
              "       ['', 'o', '', 'o', '', 'o', '', 'o'],\n",
              "       ['M', '', 'M', '', 'M', '', 'M', ''],\n",
              "       ['', 'o', '', 'o', '', 'o', '', 'o'],\n",
              "       ['M', '', 'M', '', 'M', '', 'M', '']], dtype='<U1')"
            ]
          },
          "metadata": {
            "tags": []
          },
          "execution_count": 136
        }
      ]
    },
    {
      "cell_type": "markdown",
      "metadata": {
        "id": "TWPMKIRMG5B-"
      },
      "source": [
        "#### 23. Use the `np.tile` to generate the same pattern \n",
        "\n",
        "```\n",
        "[['' 'O' '' 'O' '' 'O' '' 'O']\n",
        " ['M' '' 'M' '' 'M' '' 'M' '']\n",
        " ['' 'O' '' 'O' '' 'O' '' 'O']\n",
        " ['M' '' 'M' '' 'M' '' 'M' '']\n",
        " ['' 'O' '' 'O' '' 'O' '' 'O']\n",
        " ['M' '' 'M' '' 'M' '' 'M' '']\n",
        " ['' 'O' '' 'O' '' 'O' '' 'O']\n",
        " ['M' '' 'M' '' 'M' '' 'M' '']]\n",
        "```\n",
        "\n"
      ],
      "id": "TWPMKIRMG5B-"
    },
    {
      "cell_type": "code",
      "metadata": {
        "colab": {
          "base_uri": "https://localhost:8080/"
        },
        "id": "0a4f919f",
        "outputId": "acd982d3-cc5c-449e-8f33-afb07bc7a0b0"
      },
      "source": [
        ""
      ],
      "id": "0a4f919f",
      "execution_count": null,
      "outputs": [
        {
          "output_type": "stream",
          "text": [
            "[['' 'O' '' 'O' '' 'O' '' 'O']\n",
            " ['M' '' 'M' '' 'M' '' 'M' '']\n",
            " ['' 'O' '' 'O' '' 'O' '' 'O']\n",
            " ['M' '' 'M' '' 'M' '' 'M' '']\n",
            " ['' 'O' '' 'O' '' 'O' '' 'O']\n",
            " ['M' '' 'M' '' 'M' '' 'M' '']\n",
            " ['' 'O' '' 'O' '' 'O' '' 'O']\n",
            " ['M' '' 'M' '' 'M' '' 'M' '']]\n"
          ],
          "name": "stdout"
        }
      ]
    },
    {
      "cell_type": "markdown",
      "metadata": {
        "id": "391791e0"
      },
      "source": [
        "#### 24. Generate then Normalize a 5x5 random matrix (★☆☆)  `hint: Normalization_array = (x_arr -mean_value(x))/std_value(x)`"
      ],
      "id": "391791e0"
    },
    {
      "cell_type": "code",
      "metadata": {
        "id": "f6533d39",
        "outputId": "9c841d42-63f3-41d8-bf4f-b0f3022d19e7",
        "colab": {
          "base_uri": "https://localhost:8080/"
        }
      },
      "source": [
        "arr15 = np.array([np.random.random(5)for i in range(5)])\n",
        "arr15 - np.mean(arr15)/np.std(arr15)"
      ],
      "id": "f6533d39",
      "execution_count": 141,
      "outputs": [
        {
          "output_type": "execute_result",
          "data": {
            "text/plain": [
              "array([[-1.80141625, -1.44580032, -1.0140383 , -1.12593588, -1.83551622],\n",
              "       [-1.17755859, -1.22757491, -1.05483436, -1.14521372, -1.72641878],\n",
              "       [-1.06731414, -1.64981324, -1.39390958, -1.44461545, -1.28331094],\n",
              "       [-1.18727268, -1.53417473, -1.5894183 , -1.17301637, -1.83980512],\n",
              "       [-1.11080849, -1.83503963, -1.92010163, -1.55074113, -1.18705215]])"
            ]
          },
          "metadata": {
            "tags": []
          },
          "execution_count": 141
        }
      ]
    },
    {
      "cell_type": "markdown",
      "metadata": {
        "id": "51898680"
      },
      "source": [
        "#### 25. generate any 1D array, negate all elements which are between 3 and 8, in place. (★☆☆)\n",
        "\n",
        "where \n",
        "\n",
        "```\n",
        "array([ 0,  1,  2,  3,  4,  5,  6,  7,  8,  9, 10])\n",
        "```\n",
        "will return\n",
        "\n",
        "```\n",
        "[ 0  1  2  3 -4 -5 -6 -7  8  9 10]\n",
        "```\n",
        "\n",
        "\n"
      ],
      "id": "51898680"
    },
    {
      "cell_type": "code",
      "metadata": {
        "colab": {
          "base_uri": "https://localhost:8080/"
        },
        "id": "51c90f2d",
        "outputId": "d90e4890-0174-443f-fa24-e6b8948b04e3"
      },
      "source": [
        "Z = np.arange(11)\n",
        "# Your code here!. \n",
        "Z[3:8]=-Z[3:8]\n",
        "Z"
      ],
      "id": "51c90f2d",
      "execution_count": 143,
      "outputs": [
        {
          "output_type": "execute_result",
          "data": {
            "text/plain": [
              "array([ 0,  1,  2, -3, -4, -5, -6, -7,  8,  9, 10])"
            ]
          },
          "metadata": {
            "tags": []
          },
          "execution_count": 143
        }
      ]
    },
    {
      "cell_type": "markdown",
      "metadata": {
        "id": "ebd10810"
      },
      "source": [
        "#### 26. Consider an integer vector Z, comment any iligal expressions (★☆☆)\n",
        "```python\n",
        "Z**Z\n",
        "2 << Z >> 2\n",
        "Z <- Z\n",
        "1j*Z\n",
        "Z/1/1\n",
        "Z<Z>Z\n",
        "```"
      ],
      "id": "ebd10810"
    },
    {
      "cell_type": "code",
      "metadata": {
        "id": "GPHf_u70qIqJ",
        "outputId": "2a1f1106-aa82-45ee-c102-8b594067dfff",
        "colab": {
          "base_uri": "https://localhost:8080/",
          "height": 229
        }
      },
      "source": [
        "Z**Z\n",
        "2 << Z >> 2\n",
        "Z <- Z\n",
        "1j*Z\n",
        "Z/1/1\n",
        "Z<Z>Z"
      ],
      "id": "GPHf_u70qIqJ",
      "execution_count": 144,
      "outputs": [
        {
          "output_type": "error",
          "ename": "ValueError",
          "evalue": "ignored",
          "traceback": [
            "\u001b[0;31m---------------------------------------------------------------------------\u001b[0m",
            "\u001b[0;31mValueError\u001b[0m                                Traceback (most recent call last)",
            "\u001b[0;32m<ipython-input-144-4e3654d03fce>\u001b[0m in \u001b[0;36m<module>\u001b[0;34m()\u001b[0m\n\u001b[0;32m----> 1\u001b[0;31m \u001b[0mZ\u001b[0m\u001b[0;34m**\u001b[0m\u001b[0mZ\u001b[0m\u001b[0;34m\u001b[0m\u001b[0;34m\u001b[0m\u001b[0m\n\u001b[0m\u001b[1;32m      2\u001b[0m \u001b[0;36m2\u001b[0m \u001b[0;34m<<\u001b[0m \u001b[0mZ\u001b[0m \u001b[0;34m>>\u001b[0m \u001b[0;36m2\u001b[0m\u001b[0;34m\u001b[0m\u001b[0;34m\u001b[0m\u001b[0m\n\u001b[1;32m      3\u001b[0m \u001b[0mZ\u001b[0m \u001b[0;34m<\u001b[0m\u001b[0;34m-\u001b[0m \u001b[0mZ\u001b[0m\u001b[0;34m\u001b[0m\u001b[0;34m\u001b[0m\u001b[0m\n\u001b[1;32m      4\u001b[0m \u001b[0;36m1j\u001b[0m\u001b[0;34m*\u001b[0m\u001b[0mZ\u001b[0m\u001b[0;34m\u001b[0m\u001b[0;34m\u001b[0m\u001b[0m\n\u001b[1;32m      5\u001b[0m \u001b[0mZ\u001b[0m\u001b[0;34m/\u001b[0m\u001b[0;36m1\u001b[0m\u001b[0;34m/\u001b[0m\u001b[0;36m1\u001b[0m\u001b[0;34m\u001b[0m\u001b[0;34m\u001b[0m\u001b[0m\n",
            "\u001b[0;31mValueError\u001b[0m: Integers to negative integer powers are not allowed."
          ]
        }
      ]
    },
    {
      "cell_type": "markdown",
      "metadata": {
        "id": "f1ae2c2d"
      },
      "source": [
        "#### 27. Generate two randon 1D array, How to find common values between two arrays? (★☆☆) `Hint: use intersect1d(Arr1,Arr2)`"
      ],
      "id": "f1ae2c2d"
    },
    {
      "cell_type": "code",
      "metadata": {
        "id": "6801c73d",
        "outputId": "aa3c2bf3-4e6b-4e1b-ec52-ea6714406791",
        "colab": {
          "base_uri": "https://localhost:8080/"
        }
      },
      "source": [
        "arr16 = np.array(np.random.random(5))\n",
        "arr17 = np.array(np.random.random(5))\n",
        "np.intersect1d(arr16,arr17)\n"
      ],
      "id": "6801c73d",
      "execution_count": 146,
      "outputs": [
        {
          "output_type": "execute_result",
          "data": {
            "text/plain": [
              "array([], dtype=float64)"
            ]
          },
          "metadata": {
            "tags": []
          },
          "execution_count": 146
        }
      ]
    },
    {
      "cell_type": "markdown",
      "metadata": {
        "id": "34a7bdee"
      },
      "source": [
        "#### 28. How to ignore all numpy warnings (not recommended)? (★☆☆)"
      ],
      "id": "34a7bdee"
    },
    {
      "cell_type": "code",
      "metadata": {
        "id": "befc60d1"
      },
      "source": [
        ""
      ],
      "id": "befc60d1",
      "execution_count": null,
      "outputs": []
    },
    {
      "cell_type": "markdown",
      "metadata": {
        "id": "37bc0973"
      },
      "source": [
        "####29. Is the following expressions true? (★☆☆)\n",
        "```python\n",
        "np.sqrt(-1) == np.emath.sqrt(-1)\n",
        "```"
      ],
      "id": "37bc0973"
    },
    {
      "cell_type": "markdown",
      "metadata": {
        "id": "08miaD8IkaLh"
      },
      "source": [
        "false"
      ],
      "id": "08miaD8IkaLh"
    }
  ]
}