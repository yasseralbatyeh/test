{
  "nbformat": 4,
  "nbformat_minor": 0,
  "metadata": {
    "colab": {
      "name": "Quiz-1.ipynb",
      "provenance": [],
      "collapsed_sections": []
    },
    "kernelspec": {
      "name": "python3",
      "display_name": "Python 3"
    },
    "language_info": {
      "name": "python"
    }
  },
  "cells": [
    {
      "cell_type": "markdown",
      "metadata": {
        "id": "PVK6TOZi-y0I"
      },
      "source": [
        "Please follow the questions sequence on your quiz interface and fill in the corresponding answer."
      ]
    },
    {
      "cell_type": "markdown",
      "metadata": {
        "id": "hrPj_EBo-HAs"
      },
      "source": [
        "##Quiz 1"
      ]
    },
    {
      "cell_type": "code",
      "metadata": {
        "id": "Hb4916l0-Fp0",
        "outputId": "7243070b-65c0-4b4e-e2b3-e7e7877c2aae",
        "colab": {
          "base_uri": "https://localhost:8080/"
        }
      },
      "source": [
        "#Q1 code goes here\n",
        "#......\n",
        "a,b=1,0\n",
        "a=a^b\n",
        "b=a^b\n",
        "a=a^b\n",
        "print(a)"
      ],
      "execution_count": 3,
      "outputs": [
        {
          "output_type": "stream",
          "text": [
            "0\n"
          ],
          "name": "stdout"
        },
        {
          "output_type": "execute_result",
          "data": {
            "text/plain": [
              "0"
            ]
          },
          "metadata": {
            "tags": []
          },
          "execution_count": 3
        }
      ]
    },
    {
      "cell_type": "code",
      "metadata": {
        "id": "p4M6g5fV-UjY",
        "outputId": "f386c8a7-5d78-4e12-95fe-4903d467decc",
        "colab": {
          "base_uri": "https://localhost:8080/"
        }
      },
      "source": [
        "#Q2 code goes here\n",
        "#......\n",
        "2**2**3**1"
      ],
      "execution_count": 4,
      "outputs": [
        {
          "output_type": "execute_result",
          "data": {
            "text/plain": [
              "256"
            ]
          },
          "metadata": {
            "tags": []
          },
          "execution_count": 4
        }
      ]
    },
    {
      "cell_type": "code",
      "metadata": {
        "id": "Kmx45kx--akf",
        "outputId": "92bb0f7b-f85c-45af-c617-e496a67d49ad",
        "colab": {
          "base_uri": "https://localhost:8080/",
          "height": 128
        }
      },
      "source": [
        "#Q3 code goes here\n",
        "#......\n",
        "def fun (**arge):\n",
        "  print (arge)\n",
        "\n",
        "fun('a'=1,'b'=2,'c'=\"d\")"
      ],
      "execution_count": 16,
      "outputs": [
        {
          "output_type": "error",
          "ename": "SyntaxError",
          "evalue": "ignored",
          "traceback": [
            "\u001b[0;36m  File \u001b[0;32m\"<ipython-input-16-74bc0a6fb9a7>\"\u001b[0;36m, line \u001b[0;32m6\u001b[0m\n\u001b[0;31m    fun('a'=1,'b'=2,'c'=\"d\")\u001b[0m\n\u001b[0m       ^\u001b[0m\n\u001b[0;31mSyntaxError\u001b[0m\u001b[0;31m:\u001b[0m keyword can't be an expression\n"
          ]
        }
      ]
    },
    {
      "cell_type": "code",
      "metadata": {
        "id": "7Y7EBhQ1-fyS",
        "outputId": "c15d74d9-555f-45b9-df6d-599e06e6dc9b",
        "colab": {
          "base_uri": "https://localhost:8080/"
        }
      },
      "source": [
        "#Q4 code goes here\n",
        "#......\n",
        "s1 = {'Alex', 2, 3}\n",
        "s2 = {3, 4, 5, 'Alix'}\n",
        "s2|s1"
      ],
      "execution_count": 21,
      "outputs": [
        {
          "output_type": "execute_result",
          "data": {
            "text/plain": [
              "{2, 3, 4, 5, 'Alex', 'Alix'}"
            ]
          },
          "metadata": {
            "tags": []
          },
          "execution_count": 21
        }
      ]
    },
    {
      "cell_type": "code",
      "metadata": {
        "id": "MA7g7GDj-g9v"
      },
      "source": [
        "#Q5 code goes here\n",
        "#......\n"
      ],
      "execution_count": null,
      "outputs": []
    },
    {
      "cell_type": "code",
      "metadata": {
        "id": "I12X4np--iIn",
        "outputId": "fdd9ccf4-52aa-4742-ad63-6b0734548e77",
        "colab": {
          "base_uri": "https://localhost:8080/"
        }
      },
      "source": [
        "#Q6 code goes here\n",
        "#......\n",
        "L=['one','Tow','Three',4]\n",
        "L+='Five'\n",
        "L"
      ],
      "execution_count": 25,
      "outputs": [
        {
          "output_type": "execute_result",
          "data": {
            "text/plain": [
              "['one', 'Tow', 'Three', 4, 'F', 'i', 'v', 'e']"
            ]
          },
          "metadata": {
            "tags": []
          },
          "execution_count": 25
        }
      ]
    },
    {
      "cell_type": "code",
      "metadata": {
        "id": "0OgudXbC-jRf",
        "outputId": "9853373c-fc0b-4dd5-c4f8-6e7a58fd14dd",
        "colab": {
          "base_uri": "https://localhost:8080/",
          "height": 195
        }
      },
      "source": [
        "#Q7 code goes here\n",
        "#......\n",
        "from random import randint\n",
        "for i in range(5,15,5):\n",
        "  print(random(1,5))"
      ],
      "execution_count": 30,
      "outputs": [
        {
          "output_type": "error",
          "ename": "NameError",
          "evalue": "ignored",
          "traceback": [
            "\u001b[0;31m---------------------------------------------------------------------------\u001b[0m",
            "\u001b[0;31mNameError\u001b[0m                                 Traceback (most recent call last)",
            "\u001b[0;32m<ipython-input-30-68596cbe1f26>\u001b[0m in \u001b[0;36m<module>\u001b[0;34m()\u001b[0m\n\u001b[1;32m      3\u001b[0m \u001b[0;32mfrom\u001b[0m \u001b[0mrandom\u001b[0m \u001b[0;32mimport\u001b[0m \u001b[0mrandint\u001b[0m\u001b[0;34m\u001b[0m\u001b[0;34m\u001b[0m\u001b[0m\n\u001b[1;32m      4\u001b[0m \u001b[0;32mfor\u001b[0m \u001b[0mi\u001b[0m \u001b[0;32min\u001b[0m \u001b[0mrange\u001b[0m\u001b[0;34m(\u001b[0m\u001b[0;36m5\u001b[0m\u001b[0;34m,\u001b[0m\u001b[0;36m15\u001b[0m\u001b[0;34m,\u001b[0m\u001b[0;36m5\u001b[0m\u001b[0;34m)\u001b[0m\u001b[0;34m:\u001b[0m\u001b[0;34m\u001b[0m\u001b[0;34m\u001b[0m\u001b[0m\n\u001b[0;32m----> 5\u001b[0;31m   \u001b[0mprint\u001b[0m\u001b[0;34m(\u001b[0m\u001b[0mrandom\u001b[0m\u001b[0;34m(\u001b[0m\u001b[0;36m1\u001b[0m\u001b[0;34m,\u001b[0m\u001b[0;36m5\u001b[0m\u001b[0;34m)\u001b[0m\u001b[0;34m)\u001b[0m\u001b[0;34m\u001b[0m\u001b[0;34m\u001b[0m\u001b[0m\n\u001b[0m",
            "\u001b[0;31mNameError\u001b[0m: name 'random' is not defined"
          ]
        }
      ]
    },
    {
      "cell_type": "code",
      "metadata": {
        "id": "GAXrIcIi-kqq",
        "outputId": "5ccb2ea7-6db7-4767-e5e5-5c3401137b62",
        "colab": {
          "base_uri": "https://localhost:8080/"
        }
      },
      "source": [
        "#Q8 code goes here\n",
        "#......\n",
        "def func(a,b,c,d=1):\n",
        "  return d**(a*25)\n",
        "\n",
        "func(4,5,6,2)"
      ],
      "execution_count": 32,
      "outputs": [
        {
          "output_type": "execute_result",
          "data": {
            "text/plain": [
              "1267650600228229401496703205376"
            ]
          },
          "metadata": {
            "tags": []
          },
          "execution_count": 32
        }
      ]
    },
    {
      "cell_type": "code",
      "metadata": {
        "id": "s9brnp6X-oLW",
        "outputId": "a6b0b15a-965f-427c-b7ab-d13e735d6015",
        "colab": {
          "base_uri": "https://localhost:8080/"
        }
      },
      "source": [
        "#Q9 code goes here\n",
        "#......\n",
        "L=list()\n",
        "L.append([1,2,[3,4]])\n",
        "L.extend([5,6,7])\n",
        "L.insert(0,['hello'])\n",
        "print(L)"
      ],
      "execution_count": 35,
      "outputs": [
        {
          "output_type": "stream",
          "text": [
            "[['hello'], [1, 2, [3, 4]], 5, 6, 7]\n"
          ],
          "name": "stdout"
        }
      ]
    },
    {
      "cell_type": "code",
      "metadata": {
        "id": "dRg-t5kh-qfd",
        "outputId": "7d0a3db3-1335-47d9-a4cf-20084563b63e",
        "colab": {
          "base_uri": "https://localhost:8080/"
        }
      },
      "source": [
        "#Q10 code goes here\n",
        "#......\n",
        "i=12\n",
        "while i>0:\n",
        "  i-=3\n",
        "  print(\"o\")\n",
        "  if i<=2 :\n",
        "    break\n",
        "  else:\n",
        "    print(\"o\")  "
      ],
      "execution_count": 36,
      "outputs": [
        {
          "output_type": "stream",
          "text": [
            "o\n",
            "o\n",
            "o\n",
            "o\n",
            "o\n",
            "o\n",
            "o\n"
          ],
          "name": "stdout"
        }
      ]
    },
    {
      "cell_type": "code",
      "metadata": {
        "id": "Oeyo6Kl7-tCz"
      },
      "source": [
        "#Q11 code goes here\n",
        "#....\n",
        "a={1, 2, '''\\#comment 3, 4'''}"
      ],
      "execution_count": 38,
      "outputs": []
    },
    {
      "cell_type": "code",
      "metadata": {
        "id": "GVUAcq57-xSu",
        "outputId": "1baa8d32-ace7-4924-9bf4-15246053ee34",
        "colab": {
          "base_uri": "https://localhost:8080/"
        }
      },
      "source": [
        "#Q12 code goes here\n",
        "#......\n",
        "type(2^63+56454968)"
      ],
      "execution_count": 45,
      "outputs": [
        {
          "output_type": "execute_result",
          "data": {
            "text/plain": [
              "int"
            ]
          },
          "metadata": {
            "tags": []
          },
          "execution_count": 45
        }
      ]
    },
    {
      "cell_type": "code",
      "metadata": {
        "id": "Ro9pL-5RQARu",
        "outputId": "03dd95e3-e0e1-4968-b883-6734b326f0c5",
        "colab": {
          "base_uri": "https://localhost:8080/"
        }
      },
      "source": [
        "a = [1, 2, 7, 8] \n",
        "a[2:2] = [3, 4, 5, 6,7]\n",
        "a"
      ],
      "execution_count": 50,
      "outputs": [
        {
          "output_type": "execute_result",
          "data": {
            "text/plain": [
              "[1, 2, 3, 4, 5, 6, 7, 7, 8]"
            ]
          },
          "metadata": {
            "tags": []
          },
          "execution_count": 50
        }
      ]
    },
    {
      "cell_type": "code",
      "metadata": {
        "id": "7ka4heAKQkJU",
        "outputId": "289b47c5-24ab-41a0-8b1c-93b49e4f42d5",
        "colab": {
          "base_uri": "https://localhost:8080/",
          "height": 35
        }
      },
      "source": [
        "x,y,z=(12,90,'a',14,5,'b',7,8,9,101)[2::3]\n",
        "y"
      ],
      "execution_count": 51,
      "outputs": [
        {
          "output_type": "execute_result",
          "data": {
            "application/vnd.google.colaboratory.intrinsic+json": {
              "type": "string"
            },
            "text/plain": [
              "'b'"
            ]
          },
          "metadata": {
            "tags": []
          },
          "execution_count": 51
        }
      ]
    },
    {
      "cell_type": "code",
      "metadata": {
        "id": "pzQ8jsFcQ13K",
        "outputId": "b5f785ba-d5f6-453b-a6eb-61e7fcd8b5e5",
        "colab": {
          "base_uri": "https://localhost:8080/"
        }
      },
      "source": [
        "{1, 2, 3} & {4, 5, 6}"
      ],
      "execution_count": 52,
      "outputs": [
        {
          "output_type": "execute_result",
          "data": {
            "text/plain": [
              "set()"
            ]
          },
          "metadata": {
            "tags": []
          },
          "execution_count": 52
        }
      ]
    },
    {
      "cell_type": "code",
      "metadata": {
        "id": "KzybGQPARFt9",
        "outputId": "722a07f8-6d8e-48d5-f579-2f8d5942dbfd",
        "colab": {
          "base_uri": "https://localhost:8080/"
        }
      },
      "source": [
        "Shopping={'Meat', 'cheese', 'butter', 'Water', 'buttermilk'}\n",
        "Shopping &= {'Meat', 'cheese', 'butter', 'Water', 'buttermilk'}\n",
        "Shopping"
      ],
      "execution_count": 71,
      "outputs": [
        {
          "output_type": "execute_result",
          "data": {
            "text/plain": [
              "{'Meat', 'Water', 'butter', 'buttermilk', 'cheese'}"
            ]
          },
          "metadata": {
            "tags": []
          },
          "execution_count": 71
        }
      ]
    },
    {
      "cell_type": "code",
      "metadata": {
        "id": "qfvXIRQnShN_"
      },
      "source": [
        ""
      ],
      "execution_count": null,
      "outputs": []
    }
  ]
}